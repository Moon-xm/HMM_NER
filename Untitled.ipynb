{
 "cells": [
  {
   "cell_type": "code",
   "execution_count": 1,
   "metadata": {
    "ExecuteTime": {
     "end_time": "2019-11-27T13:57:52.167998Z",
     "start_time": "2019-11-27T13:57:51.483398Z"
    }
   },
   "outputs": [],
   "source": [
    "from pandas import DataFrame\n",
    "import pandas as pd"
   ]
  },
  {
   "cell_type": "code",
   "execution_count": 2,
   "metadata": {
    "ExecuteTime": {
     "end_time": "2019-11-27T13:57:53.150478Z",
     "start_time": "2019-11-27T13:57:52.170874Z"
    }
   },
   "outputs": [],
   "source": [
    "df = pd.read_csv('corpus/BIO_train.txt', sep = '\\t', names = ['char', 'tag'])"
   ]
  },
  {
   "cell_type": "code",
   "execution_count": 3,
   "metadata": {
    "ExecuteTime": {
     "end_time": "2019-11-27T13:57:53.177970Z",
     "start_time": "2019-11-27T13:57:53.153187Z"
    }
   },
   "outputs": [
    {
     "data": {
      "text/html": [
       "<div>\n",
       "<style scoped>\n",
       "    .dataframe tbody tr th:only-of-type {\n",
       "        vertical-align: middle;\n",
       "    }\n",
       "\n",
       "    .dataframe tbody tr th {\n",
       "        vertical-align: top;\n",
       "    }\n",
       "\n",
       "    .dataframe thead th {\n",
       "        text-align: right;\n",
       "    }\n",
       "</style>\n",
       "<table border=\"1\" class=\"dataframe\">\n",
       "  <thead>\n",
       "    <tr style=\"text-align: right;\">\n",
       "      <th></th>\n",
       "      <th>char</th>\n",
       "      <th>tag</th>\n",
       "    </tr>\n",
       "  </thead>\n",
       "  <tbody>\n",
       "    <tr>\n",
       "      <th>0</th>\n",
       "      <td>当</td>\n",
       "      <td>O</td>\n",
       "    </tr>\n",
       "    <tr>\n",
       "      <th>1</th>\n",
       "      <td>希</td>\n",
       "      <td>O</td>\n",
       "    </tr>\n",
       "    <tr>\n",
       "      <th>2</th>\n",
       "      <td>望</td>\n",
       "      <td>O</td>\n",
       "    </tr>\n",
       "    <tr>\n",
       "      <th>3</th>\n",
       "      <td>工</td>\n",
       "      <td>O</td>\n",
       "    </tr>\n",
       "    <tr>\n",
       "      <th>4</th>\n",
       "      <td>程</td>\n",
       "      <td>O</td>\n",
       "    </tr>\n",
       "  </tbody>\n",
       "</table>\n",
       "</div>"
      ],
      "text/plain": [
       "  char tag\n",
       "0    当   O\n",
       "1    希   O\n",
       "2    望   O\n",
       "3    工   O\n",
       "4    程   O"
      ]
     },
     "execution_count": 3,
     "metadata": {},
     "output_type": "execute_result"
    }
   ],
   "source": [
    "df.head()"
   ]
  },
  {
   "cell_type": "code",
   "execution_count": 4,
   "metadata": {
    "ExecuteTime": {
     "end_time": "2019-11-27T13:57:54.233660Z",
     "start_time": "2019-11-27T13:57:53.190384Z"
    }
   },
   "outputs": [
    {
     "data": {
      "text/html": [
       "<div>\n",
       "<style scoped>\n",
       "    .dataframe tbody tr th:only-of-type {\n",
       "        vertical-align: middle;\n",
       "    }\n",
       "\n",
       "    .dataframe tbody tr th {\n",
       "        vertical-align: top;\n",
       "    }\n",
       "\n",
       "    .dataframe thead th {\n",
       "        text-align: right;\n",
       "    }\n",
       "</style>\n",
       "<table border=\"1\" class=\"dataframe\">\n",
       "  <thead>\n",
       "    <tr style=\"text-align: right;\">\n",
       "      <th></th>\n",
       "      <th>char</th>\n",
       "      <th>tag</th>\n",
       "    </tr>\n",
       "  </thead>\n",
       "  <tbody>\n",
       "    <tr>\n",
       "      <th>count</th>\n",
       "      <td>2169879</td>\n",
       "      <td>2169879</td>\n",
       "    </tr>\n",
       "    <tr>\n",
       "      <th>unique</th>\n",
       "      <td>4767</td>\n",
       "      <td>7</td>\n",
       "    </tr>\n",
       "    <tr>\n",
       "      <th>top</th>\n",
       "      <td>，</td>\n",
       "      <td>O</td>\n",
       "    </tr>\n",
       "    <tr>\n",
       "      <th>freq</th>\n",
       "      <td>91623</td>\n",
       "      <td>1928070</td>\n",
       "    </tr>\n",
       "  </tbody>\n",
       "</table>\n",
       "</div>"
      ],
      "text/plain": [
       "           char      tag\n",
       "count   2169879  2169879\n",
       "unique     4767        7\n",
       "top           ，        O\n",
       "freq      91623  1928070"
      ]
     },
     "execution_count": 4,
     "metadata": {},
     "output_type": "execute_result"
    }
   ],
   "source": [
    "df.describe()"
   ]
  },
  {
   "cell_type": "code",
   "execution_count": 5,
   "metadata": {
    "ExecuteTime": {
     "end_time": "2019-11-27T13:57:54.496636Z",
     "start_time": "2019-11-27T13:57:54.254952Z"
    }
   },
   "outputs": [
    {
     "data": {
      "text/plain": [
       "array(['O', 'B-LOC', 'I-LOC', 'B-ORG', 'I-ORG', 'B-PER', 'I-PER'],\n",
       "      dtype=object)"
      ]
     },
     "execution_count": 5,
     "metadata": {},
     "output_type": "execute_result"
    }
   ],
   "source": [
    "df.tag.unique()"
   ]
  },
  {
   "cell_type": "code",
   "execution_count": 6,
   "metadata": {
    "ExecuteTime": {
     "end_time": "2019-11-27T13:59:54.623281Z",
     "start_time": "2019-11-27T13:57:54.504427Z"
    }
   },
   "outputs": [
    {
     "name": "stdout",
     "output_type": "stream",
     "text": [
      "char        马\n",
      "tag     B-PER\n",
      "Name: 1440, dtype: object char        列\n",
      "tag     B-PER\n",
      "Name: 1441, dtype: object \n",
      "\n",
      "char        黄\n",
      "tag     B-PER\n",
      "Name: 10235, dtype: object char        蚩\n",
      "tag     B-PER\n",
      "Name: 10236, dtype: object \n",
      "\n",
      "char        梁\n",
      "tag     B-PER\n",
      "Name: 35953, dtype: object char        祝\n",
      "tag     B-PER\n",
      "Name: 35954, dtype: object \n",
      "\n",
      "char        汤\n",
      "tag     B-PER\n",
      "Name: 177035, dtype: object char        尤\n",
      "tag     B-PER\n",
      "Name: 177036, dtype: object \n",
      "\n",
      "char        汤\n",
      "tag     B-PER\n",
      "Name: 177570, dtype: object char        尤\n",
      "tag     B-PER\n",
      "Name: 177571, dtype: object \n",
      "\n",
      "char        汤\n",
      "tag     B-PER\n",
      "Name: 185367, dtype: object char        尤\n",
      "tag     B-PER\n",
      "Name: 185368, dtype: object \n",
      "\n",
      "char        马\n",
      "tag     B-PER\n",
      "Name: 192991, dtype: object char        列\n",
      "tag     B-PER\n",
      "Name: 192992, dtype: object \n",
      "\n",
      "char        汤\n",
      "tag     B-PER\n",
      "Name: 195923, dtype: object char        尤\n",
      "tag     B-PER\n",
      "Name: 195924, dtype: object \n",
      "\n",
      "char        汤\n",
      "tag     B-PER\n",
      "Name: 196223, dtype: object char        尤\n",
      "tag     B-PER\n",
      "Name: 196224, dtype: object \n",
      "\n",
      "char        汤\n",
      "tag     B-PER\n",
      "Name: 196901, dtype: object char        尤\n",
      "tag     B-PER\n",
      "Name: 196902, dtype: object \n",
      "\n",
      "char        汤\n",
      "tag     B-PER\n",
      "Name: 196960, dtype: object char        尤\n",
      "tag     B-PER\n",
      "Name: 196961, dtype: object \n",
      "\n",
      "char        汤\n",
      "tag     B-PER\n",
      "Name: 199842, dtype: object char        尤\n",
      "tag     B-PER\n",
      "Name: 199843, dtype: object \n",
      "\n",
      "char        汤\n",
      "tag     B-PER\n",
      "Name: 203023, dtype: object char        尤\n",
      "tag     B-PER\n",
      "Name: 203024, dtype: object \n",
      "\n",
      "char        汤\n",
      "tag     B-PER\n",
      "Name: 204197, dtype: object char        尤\n",
      "tag     B-PER\n",
      "Name: 204198, dtype: object \n",
      "\n",
      "char        汤\n",
      "tag     B-PER\n",
      "Name: 206563, dtype: object char        尤\n",
      "tag     B-PER\n",
      "Name: 206564, dtype: object \n",
      "\n",
      "char        汤\n",
      "tag     B-PER\n",
      "Name: 207640, dtype: object char        尤\n",
      "tag     B-PER\n",
      "Name: 207641, dtype: object \n",
      "\n",
      "char        汤\n",
      "tag     B-PER\n",
      "Name: 207778, dtype: object char        尤\n",
      "tag     B-PER\n",
      "Name: 207779, dtype: object \n",
      "\n",
      "char        汤\n",
      "tag     B-PER\n",
      "Name: 207838, dtype: object char        尤\n",
      "tag     B-PER\n",
      "Name: 207839, dtype: object \n",
      "\n",
      "char        汤\n",
      "tag     B-PER\n",
      "Name: 208201, dtype: object char        尤\n",
      "tag     B-PER\n",
      "Name: 208202, dtype: object \n",
      "\n",
      "char        汤\n",
      "tag     B-PER\n",
      "Name: 208981, dtype: object char        尤\n",
      "tag     B-PER\n",
      "Name: 208982, dtype: object \n",
      "\n",
      "char        汤\n",
      "tag     B-PER\n",
      "Name: 240753, dtype: object char        尤\n",
      "tag     B-PER\n",
      "Name: 240754, dtype: object \n",
      "\n",
      "char        马\n",
      "tag     B-PER\n",
      "Name: 544045, dtype: object char        列\n",
      "tag     B-PER\n",
      "Name: 544046, dtype: object \n",
      "\n",
      "char        马\n",
      "tag     B-PER\n",
      "Name: 544115, dtype: object char        列\n",
      "tag     B-PER\n",
      "Name: 544116, dtype: object \n",
      "\n",
      "char        马\n",
      "tag     B-PER\n",
      "Name: 599034, dtype: object char        列\n",
      "tag     B-PER\n",
      "Name: 599035, dtype: object \n",
      "\n",
      "char        汤\n",
      "tag     B-PER\n",
      "Name: 629433, dtype: object char        尤\n",
      "tag     B-PER\n",
      "Name: 629434, dtype: object \n",
      "\n",
      "char        汤\n",
      "tag     B-PER\n",
      "Name: 631925, dtype: object char        尤\n",
      "tag     B-PER\n",
      "Name: 631926, dtype: object \n",
      "\n",
      "char        汤\n",
      "tag     B-PER\n",
      "Name: 669479, dtype: object char        尤\n",
      "tag     B-PER\n",
      "Name: 669480, dtype: object \n",
      "\n",
      "char        汤\n",
      "tag     B-PER\n",
      "Name: 669501, dtype: object char        尤\n",
      "tag     B-PER\n",
      "Name: 669502, dtype: object \n",
      "\n",
      "char        汤\n",
      "tag     B-PER\n",
      "Name: 669525, dtype: object char        尤\n",
      "tag     B-PER\n",
      "Name: 669526, dtype: object \n",
      "\n",
      "char        汤\n",
      "tag     B-PER\n",
      "Name: 669571, dtype: object char        尤\n",
      "tag     B-PER\n",
      "Name: 669572, dtype: object \n",
      "\n",
      "char        汤\n",
      "tag     B-PER\n",
      "Name: 669590, dtype: object char        尤\n",
      "tag     B-PER\n",
      "Name: 669591, dtype: object \n",
      "\n",
      "char        汤\n",
      "tag     B-PER\n",
      "Name: 669860, dtype: object char        尤\n",
      "tag     B-PER\n",
      "Name: 669861, dtype: object \n",
      "\n",
      "char        汤\n",
      "tag     B-PER\n",
      "Name: 670044, dtype: object char        尤\n",
      "tag     B-PER\n",
      "Name: 670045, dtype: object \n",
      "\n",
      "char        马\n",
      "tag     B-PER\n",
      "Name: 873304, dtype: object char        列\n",
      "tag     B-PER\n",
      "Name: 873305, dtype: object \n",
      "\n",
      "char        梁\n",
      "tag     B-PER\n",
      "Name: 929367, dtype: object char        祝\n",
      "tag     B-PER\n",
      "Name: 929368, dtype: object \n",
      "\n",
      "char        马\n",
      "tag     B-PER\n",
      "Name: 1185506, dtype: object char        列\n",
      "tag     B-PER\n",
      "Name: 1185507, dtype: object \n",
      "\n",
      "char        马\n",
      "tag     B-PER\n",
      "Name: 1186391, dtype: object char        列\n",
      "tag     B-PER\n",
      "Name: 1186392, dtype: object \n",
      "\n",
      "char        马\n",
      "tag     B-PER\n",
      "Name: 1186945, dtype: object char        列\n",
      "tag     B-PER\n",
      "Name: 1186946, dtype: object \n",
      "\n",
      "char        马\n",
      "tag     B-PER\n",
      "Name: 1186996, dtype: object char        列\n",
      "tag     B-PER\n",
      "Name: 1186997, dtype: object \n",
      "\n",
      "char        马\n",
      "tag     B-PER\n",
      "Name: 1187015, dtype: object char        列\n",
      "tag     B-PER\n",
      "Name: 1187016, dtype: object \n",
      "\n",
      "char        马\n",
      "tag     B-PER\n",
      "Name: 1187080, dtype: object char        列\n",
      "tag     B-PER\n",
      "Name: 1187081, dtype: object \n",
      "\n",
      "char        马\n",
      "tag     B-PER\n",
      "Name: 1187202, dtype: object char        列\n",
      "tag     B-PER\n",
      "Name: 1187203, dtype: object \n",
      "\n",
      "char        马\n",
      "tag     B-PER\n",
      "Name: 1252184, dtype: object char        列\n",
      "tag     B-PER\n",
      "Name: 1252185, dtype: object \n",
      "\n",
      "char        马\n",
      "tag     B-PER\n",
      "Name: 1339990, dtype: object char        列\n",
      "tag     B-PER\n",
      "Name: 1339991, dtype: object \n",
      "\n",
      "char        孔\n",
      "tag     B-PER\n",
      "Name: 1355958, dtype: object char        孟\n",
      "tag     B-PER\n",
      "Name: 1355959, dtype: object \n",
      "\n",
      "char        老\n",
      "tag     B-PER\n",
      "Name: 1356192, dtype: object char        庄\n",
      "tag     B-PER\n",
      "Name: 1356193, dtype: object \n",
      "\n",
      "char        马\n",
      "tag     B-PER\n",
      "Name: 1366104, dtype: object char        列\n",
      "tag     B-PER\n",
      "Name: 1366105, dtype: object \n",
      "\n",
      "char        马\n",
      "tag     B-PER\n",
      "Name: 1603404, dtype: object char        列\n",
      "tag     B-PER\n",
      "Name: 1603405, dtype: object \n",
      "\n",
      "char        康\n",
      "tag     B-PER\n",
      "Name: 1604495, dtype: object char        梁\n",
      "tag     B-PER\n",
      "Name: 1604496, dtype: object \n",
      "\n",
      "char        康\n",
      "tag     B-PER\n",
      "Name: 1652106, dtype: object char        雍\n",
      "tag     B-PER\n",
      "Name: 1652107, dtype: object \n",
      "\n",
      "char        雍\n",
      "tag     B-PER\n",
      "Name: 1652107, dtype: object char        乾\n",
      "tag     B-PER\n",
      "Name: 1652108, dtype: object \n",
      "\n",
      "char        马\n",
      "tag     B-PER\n",
      "Name: 1666400, dtype: object char        列\n",
      "tag     B-PER\n",
      "Name: 1666401, dtype: object \n",
      "\n",
      "char        马\n",
      "tag     B-PER\n",
      "Name: 1826347, dtype: object char        列\n",
      "tag     B-PER\n",
      "Name: 1826348, dtype: object \n",
      "\n",
      "char        马\n",
      "tag     B-PER\n",
      "Name: 1826961, dtype: object char        列\n",
      "tag     B-PER\n",
      "Name: 1826962, dtype: object \n",
      "\n",
      "char        马\n",
      "tag     B-PER\n",
      "Name: 1858837, dtype: object char        列\n",
      "tag     B-PER\n",
      "Name: 1858838, dtype: object \n",
      "\n",
      "char        马\n",
      "tag     B-PER\n",
      "Name: 1859129, dtype: object char        列\n",
      "tag     B-PER\n",
      "Name: 1859130, dtype: object \n",
      "\n",
      "char        马\n",
      "tag     B-PER\n",
      "Name: 1880684, dtype: object char        列\n",
      "tag     B-PER\n",
      "Name: 1880685, dtype: object \n",
      "\n",
      "char        马\n",
      "tag     B-PER\n",
      "Name: 1946748, dtype: object char        列\n",
      "tag     B-PER\n",
      "Name: 1946749, dtype: object \n",
      "\n",
      "char        马\n",
      "tag     B-PER\n",
      "Name: 1947197, dtype: object char        列\n",
      "tag     B-PER\n",
      "Name: 1947198, dtype: object \n",
      "\n",
      "char        康\n",
      "tag     B-PER\n",
      "Name: 1993925, dtype: object char        乾\n",
      "tag     B-PER\n",
      "Name: 1993926, dtype: object \n",
      "\n",
      "char        马\n",
      "tag     B-PER\n",
      "Name: 2006501, dtype: object char        列\n",
      "tag     B-PER\n",
      "Name: 2006502, dtype: object \n",
      "\n",
      "char        马\n",
      "tag     B-PER\n",
      "Name: 2011934, dtype: object char        列\n",
      "tag     B-PER\n",
      "Name: 2011935, dtype: object \n",
      "\n",
      "char        马\n",
      "tag     B-PER\n",
      "Name: 2012332, dtype: object char        列\n",
      "tag     B-PER\n",
      "Name: 2012333, dtype: object \n",
      "\n",
      "char        马\n",
      "tag     B-PER\n",
      "Name: 2013361, dtype: object char        列\n",
      "tag     B-PER\n",
      "Name: 2013362, dtype: object \n",
      "\n",
      "char        马\n",
      "tag     B-PER\n",
      "Name: 2014085, dtype: object char        列\n",
      "tag     B-PER\n",
      "Name: 2014086, dtype: object \n",
      "\n",
      "char        马\n",
      "tag     B-PER\n",
      "Name: 2014638, dtype: object char        列\n",
      "tag     B-PER\n",
      "Name: 2014639, dtype: object \n",
      "\n",
      "char        马\n",
      "tag     B-PER\n",
      "Name: 2109363, dtype: object char        列\n",
      "tag     B-PER\n",
      "Name: 2109364, dtype: object \n",
      "\n",
      "char        马\n",
      "tag     B-PER\n",
      "Name: 2113876, dtype: object char        列\n",
      "tag     B-PER\n",
      "Name: 2113877, dtype: object \n",
      "\n",
      "char        马\n",
      "tag     B-PER\n",
      "Name: 2115402, dtype: object char        列\n",
      "tag     B-PER\n",
      "Name: 2115403, dtype: object \n",
      "\n",
      "char        马\n",
      "tag     B-PER\n",
      "Name: 2115843, dtype: object char        列\n",
      "tag     B-PER\n",
      "Name: 2115844, dtype: object \n",
      "\n",
      "char        马\n",
      "tag     B-PER\n",
      "Name: 2151139, dtype: object char        列\n",
      "tag     B-PER\n",
      "Name: 2151140, dtype: object \n",
      "\n",
      "71\n"
     ]
    }
   ],
   "source": [
    "count = 0\n",
    "for i in range(len(df)):\n",
    "    if df.tag[i] == 'B-PER' and df.tag[i+1] == 'B-PER':\n",
    "        print(df.iloc[i],df.iloc[i+1],'\\n')\n",
    "        count +=1\n",
    "print(count)"
   ]
  },
  {
   "cell_type": "code",
   "execution_count": 7,
   "metadata": {
    "ExecuteTime": {
     "end_time": "2019-11-27T13:59:54.639532Z",
     "start_time": "2019-11-27T13:59:54.628606Z"
    }
   },
   "outputs": [
    {
     "name": "stdout",
     "output_type": "stream",
     "text": [
      "<class 'pandas.core.frame.DataFrame'>\n",
      "RangeIndex: 2169879 entries, 0 to 2169878\n",
      "Data columns (total 2 columns):\n",
      "char    object\n",
      "tag     object\n",
      "dtypes: object(2)\n",
      "memory usage: 33.1+ MB\n"
     ]
    }
   ],
   "source": [
    "df.info()"
   ]
  },
  {
   "cell_type": "code",
   "execution_count": 8,
   "metadata": {
    "ExecuteTime": {
     "end_time": "2019-11-27T13:59:54.656237Z",
     "start_time": "2019-11-27T13:59:54.644425Z"
    }
   },
   "outputs": [],
   "source": [
    "import numpy as np"
   ]
  },
  {
   "cell_type": "code",
   "execution_count": 36,
   "metadata": {
    "ExecuteTime": {
     "end_time": "2019-11-27T14:05:13.033996Z",
     "start_time": "2019-11-27T14:05:13.024614Z"
    }
   },
   "outputs": [],
   "source": [
    "a = np.array([1,2,3,4])\n",
    "a = a.reshape(4,-1)\n",
    "b = np.array([[1,5,13,13],\n",
    "             [2,6,11,14],\n",
    "             [3,7,10,15],\n",
    "             [4,8,9,16]])"
   ]
  },
  {
   "cell_type": "code",
   "execution_count": 37,
   "metadata": {
    "ExecuteTime": {
     "end_time": "2019-11-27T14:05:13.259843Z",
     "start_time": "2019-11-27T14:05:13.246975Z"
    }
   },
   "outputs": [
    {
     "data": {
      "text/plain": [
       "(array([[1],\n",
       "        [2],\n",
       "        [3],\n",
       "        [4]]), array([[ 1,  5, 13, 13],\n",
       "        [ 2,  6, 11, 14],\n",
       "        [ 3,  7, 10, 15],\n",
       "        [ 4,  8,  9, 16]]))"
      ]
     },
     "execution_count": 37,
     "metadata": {},
     "output_type": "execute_result"
    }
   ],
   "source": [
    "a,b"
   ]
  },
  {
   "cell_type": "code",
   "execution_count": 38,
   "metadata": {
    "ExecuteTime": {
     "end_time": "2019-11-27T14:05:13.445919Z",
     "start_time": "2019-11-27T14:05:13.440363Z"
    }
   },
   "outputs": [
    {
     "data": {
      "text/plain": [
       "array([[ 2,  6, 14, 14],\n",
       "       [ 4,  8, 13, 16],\n",
       "       [ 6, 10, 13, 18],\n",
       "       [ 8, 12, 13, 20]])"
      ]
     },
     "execution_count": 38,
     "metadata": {},
     "output_type": "execute_result"
    }
   ],
   "source": [
    "c = a+b\n",
    "c"
   ]
  },
  {
   "cell_type": "code",
   "execution_count": 39,
   "metadata": {
    "ExecuteTime": {
     "end_time": "2019-11-27T14:05:14.432506Z",
     "start_time": "2019-11-27T14:05:14.427627Z"
    }
   },
   "outputs": [
    {
     "data": {
      "text/plain": [
       "array([ 8, 12, 14, 20])"
      ]
     },
     "execution_count": 39,
     "metadata": {},
     "output_type": "execute_result"
    }
   ],
   "source": [
    "np.max(c, axis=0)"
   ]
  },
  {
   "cell_type": "code",
   "execution_count": 40,
   "metadata": {
    "ExecuteTime": {
     "end_time": "2019-11-27T14:05:35.215545Z",
     "start_time": "2019-11-27T14:05:35.199075Z"
    }
   },
   "outputs": [
    {
     "data": {
      "text/plain": [
       "array([3, 3, 0, 3])"
      ]
     },
     "execution_count": 40,
     "metadata": {},
     "output_type": "execute_result"
    }
   ],
   "source": [
    "np.argmax(c, axis=0)"
   ]
  },
  {
   "cell_type": "code",
   "execution_count": null,
   "metadata": {},
   "outputs": [],
   "source": [
    "pi = [0,1,2,3]"
   ]
  }
 ],
 "metadata": {
  "hide_input": false,
  "kernelspec": {
   "display_name": "Python 3",
   "language": "python",
   "name": "python3"
  },
  "language_info": {
   "codemirror_mode": {
    "name": "ipython",
    "version": 3
   },
   "file_extension": ".py",
   "mimetype": "text/x-python",
   "name": "python",
   "nbconvert_exporter": "python",
   "pygments_lexer": "ipython3",
   "version": "3.7.3"
  },
  "toc": {
   "base_numbering": 1,
   "nav_menu": {},
   "number_sections": true,
   "sideBar": true,
   "skip_h1_title": false,
   "title_cell": "Table of Contents",
   "title_sidebar": "Contents",
   "toc_cell": false,
   "toc_position": {},
   "toc_section_display": true,
   "toc_window_display": false
  },
  "varInspector": {
   "cols": {
    "lenName": 16,
    "lenType": 16,
    "lenVar": 40
   },
   "kernels_config": {
    "python": {
     "delete_cmd_postfix": "",
     "delete_cmd_prefix": "del ",
     "library": "var_list.py",
     "varRefreshCmd": "print(var_dic_list())"
    },
    "r": {
     "delete_cmd_postfix": ") ",
     "delete_cmd_prefix": "rm(",
     "library": "var_list.r",
     "varRefreshCmd": "cat(var_dic_list()) "
    }
   },
   "types_to_exclude": [
    "module",
    "function",
    "builtin_function_or_method",
    "instance",
    "_Feature"
   ],
   "window_display": false
  }
 },
 "nbformat": 4,
 "nbformat_minor": 2
}
